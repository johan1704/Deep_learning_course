{
 "cells": [
  {
   "cell_type": "code",
   "execution_count": 14,
   "metadata": {},
   "outputs": [],
   "source": [
    "import pandas as pd\n",
    "import numpy as np\n",
    "import matplotlib.pyplot as plt"
   ]
  },
  {
   "cell_type": "code",
   "execution_count": 15,
   "metadata": {},
   "outputs": [],
   "source": [
    "#going to implement our first Convolutional Neural Network...let's start\n",
    "#importing the required packages for the work....\n",
    "from keras.models import Sequential\n",
    "from keras.layers import Convolution2D\n",
    "from keras.layers import MaxPooling2D\n",
    "from keras.layers import Flatten\n",
    "from keras.layers import Dense"
   ]
  },
  {
   "cell_type": "code",
   "execution_count": 18,
   "metadata": {},
   "outputs": [],
   "source": [
    "#Iniializing the CNN\n",
    "classifier=Sequential()\n",
    "\n",
    "#step 1:Convolution\n",
    "classifier.add(Convolution2D(32,3,3,input_shape=(64,64,3),activation='relu'))\n",
    "\n",
    "#step 2:pooling\n",
    "classifier.add(MaxPooling2D(pool_size=(2,2)))\n",
    "\n",
    "#second layer\n",
    "classifier.add(Convolution2D(32,3,3,activation='relu'))\n",
    "classifier.add(MaxPooling2D(pool_size=(2,2)))\n",
    "\n",
    "#step 3:Flatten\n",
    "classifier.add(Flatten())\n",
    "\n",
    "#step 4:Dense[full connection]\n",
    "classifier.add(Dense(units=128,activation=\"relu\"))\n",
    "#output dim\n",
    "classifier.add(Dense(units=1,activation=\"sigmoid\"))"
   ]
  },
  {
   "cell_type": "code",
   "execution_count": 19,
   "metadata": {},
   "outputs": [],
   "source": [
    "#compiling CNN\n",
    "classifier.compile(optimizer='adam',loss='binary_crossentropy',metrics=['accuracy'])"
   ]
  },
  {
   "cell_type": "code",
   "execution_count": 22,
   "metadata": {},
   "outputs": [
    {
     "name": "stdout",
     "output_type": "stream",
     "text": [
      "Found 8000 images belonging to 2 classes.\n",
      "Found 2000 images belonging to 2 classes.\n",
      "Epoch 1/25\n",
      "250/250 [==============================] - 170s 680ms/step - loss: 0.6853 - accuracy: 0.5529 - val_loss: 0.6823 - val_accuracy: 0.5544\n",
      "Epoch 2/25\n",
      "250/250 [==============================] - 158s 634ms/step - loss: 0.6668 - accuracy: 0.5946 - val_loss: 0.6639 - val_accuracy: 0.5943\n",
      "Epoch 3/25\n",
      "250/250 [==============================] - 165s 660ms/step - loss: 0.6467 - accuracy: 0.6205 - val_loss: 0.6439 - val_accuracy: 0.6200\n",
      "Epoch 4/25\n",
      "250/250 [==============================] - 153s 613ms/step - loss: 0.6442 - accuracy: 0.6219 - val_loss: 0.6427 - val_accuracy: 0.6210\n",
      "Epoch 5/25\n",
      "250/250 [==============================] - 140s 561ms/step - loss: 0.6361 - accuracy: 0.6317 - val_loss: 0.6409 - val_accuracy: 0.6250\n",
      "Epoch 6/25\n",
      "250/250 [==============================] - 136s 543ms/step - loss: 0.6235 - accuracy: 0.6450 - val_loss: 0.6351 - val_accuracy: 0.6376\n",
      "Epoch 7/25\n",
      "250/250 [==============================] - 136s 543ms/step - loss: 0.6191 - accuracy: 0.6596 - val_loss: 0.6485 - val_accuracy: 0.6240\n",
      "Epoch 8/25\n",
      "250/250 [==============================] - 136s 545ms/step - loss: 0.6151 - accuracy: 0.6544 - val_loss: 0.6375 - val_accuracy: 0.6406\n",
      "Epoch 9/25\n",
      "250/250 [==============================] - 136s 542ms/step - loss: 0.6133 - accuracy: 0.6594 - val_loss: 0.6164 - val_accuracy: 0.6537\n",
      "Epoch 10/25\n",
      "250/250 [==============================] - 135s 540ms/step - loss: 0.5998 - accuracy: 0.6722 - val_loss: 0.6143 - val_accuracy: 0.6537\n",
      "Epoch 11/25\n",
      "250/250 [==============================] - 135s 542ms/step - loss: 0.5979 - accuracy: 0.6752 - val_loss: 0.6196 - val_accuracy: 0.6598\n",
      "Epoch 12/25\n",
      "250/250 [==============================] - 136s 542ms/step - loss: 0.5928 - accuracy: 0.6744 - val_loss: 0.6369 - val_accuracy: 0.6396\n",
      "Epoch 13/25\n",
      "250/250 [==============================] - 136s 543ms/step - loss: 0.5985 - accuracy: 0.6794 - val_loss: 0.6268 - val_accuracy: 0.6416\n",
      "Epoch 14/25\n",
      "250/250 [==============================] - 136s 543ms/step - loss: 0.5877 - accuracy: 0.6836 - val_loss: 0.6170 - val_accuracy: 0.6648\n",
      "Epoch 15/25\n",
      "250/250 [==============================] - 137s 547ms/step - loss: 0.5924 - accuracy: 0.6762 - val_loss: 0.5940 - val_accuracy: 0.6840\n",
      "Epoch 16/25\n",
      "250/250 [==============================] - 139s 558ms/step - loss: 0.5829 - accuracy: 0.6837 - val_loss: 0.6034 - val_accuracy: 0.6709\n",
      "Epoch 17/25\n",
      "250/250 [==============================] - 137s 546ms/step - loss: 0.5807 - accuracy: 0.6900 - val_loss: 0.6059 - val_accuracy: 0.6683\n",
      "Epoch 18/25\n",
      "250/250 [==============================] - 136s 544ms/step - loss: 0.5803 - accuracy: 0.6920 - val_loss: 0.6506 - val_accuracy: 0.6174\n",
      "Epoch 19/25\n",
      "250/250 [==============================] - 137s 548ms/step - loss: 0.5752 - accuracy: 0.6963 - val_loss: 0.5964 - val_accuracy: 0.6815\n",
      "Epoch 20/25\n",
      "250/250 [==============================] - 136s 543ms/step - loss: 0.5799 - accuracy: 0.6995 - val_loss: 0.5883 - val_accuracy: 0.6885\n",
      "Epoch 21/25\n",
      "250/250 [==============================] - 136s 543ms/step - loss: 0.5780 - accuracy: 0.6935 - val_loss: 0.6031 - val_accuracy: 0.6744\n",
      "Epoch 22/25\n",
      "250/250 [==============================] - 136s 544ms/step - loss: 0.5724 - accuracy: 0.6986 - val_loss: 0.6312 - val_accuracy: 0.6694\n",
      "Epoch 23/25\n",
      "250/250 [==============================] - 135s 541ms/step - loss: 0.5775 - accuracy: 0.6989 - val_loss: 0.5943 - val_accuracy: 0.6784\n",
      "Epoch 24/25\n",
      "250/250 [==============================] - 136s 546ms/step - loss: 0.5640 - accuracy: 0.7070 - val_loss: 0.6322 - val_accuracy: 0.6593\n",
      "Epoch 25/25\n",
      "250/250 [==============================] - 136s 543ms/step - loss: 0.5717 - accuracy: 0.7020 - val_loss: 0.5919 - val_accuracy: 0.6870\n"
     ]
    },
    {
     "data": {
      "text/plain": [
       "<tensorflow.python.keras.callbacks.History at 0x1c1d684c348>"
      ]
     },
     "execution_count": 22,
     "metadata": {},
     "output_type": "execute_result"
    }
   ],
   "source": [
    "#Fitting the images to the CNN\n",
    "#-----going to preprocess using keras in order to avoid overfitting------\n",
    "\n",
    "#Part_2:\n",
    "from keras.preprocessing.image import ImageDataGenerator\n",
    "\n",
    "train_datagen = ImageDataGenerator(\n",
    "        rescale=1./255,\n",
    "        shear_range=0.2,\n",
    "        zoom_range=0.2,\n",
    "        horizontal_flip=True)\n",
    "\n",
    "test_datagen = ImageDataGenerator(rescale=1./255)\n",
    "\n",
    "training_set= train_datagen.flow_from_directory(\n",
    "        'dataset/training_set',\n",
    "        target_size=(64, 64),\n",
    "        batch_size=32,\n",
    "        class_mode='binary')\n",
    "\n",
    "test_set= test_datagen.flow_from_directory(\n",
    "        'dataset/test_set',\n",
    "        target_size=(64, 64),\n",
    "        batch_size=32,\n",
    "        class_mode='binary')\n",
    "\n",
    "classifier.fit(\n",
    "        training_set,\n",
    "        steps_per_epoch=int(8000/32),\n",
    "        epochs=25,\n",
    "        validation_data=test_set,\n",
    "        validation_steps=int(2000/32))"
   ]
  },
  {
   "cell_type": "code",
   "execution_count": 27,
   "metadata": {},
   "outputs": [],
   "source": [
    "#Making single predictions\n",
    "from keras.preprocessing import image\n",
    "test_image=image.load_img('dataset/single_prediction/cat_or_dog_3.jpg',target_size=(64,64))\n",
    "test_image=image.img_to_array(test_image)\n",
    "test_image=np.expand_dims(test_image,axis=0)\n",
    "result=classifier.predict(test_image)\n",
    "training_set.class_indices\n",
    "if result[0][0]==1:\n",
    "    prediction=\"dog\"\n",
    "else:\n",
    "    prediction=\"cat\""
   ]
  },
  {
   "cell_type": "code",
   "execution_count": 28,
   "metadata": {},
   "outputs": [
    {
     "data": {
      "text/plain": [
       "array([[0.9999683]], dtype=float32)"
      ]
     },
     "execution_count": 28,
     "metadata": {},
     "output_type": "execute_result"
    }
   ],
   "source": [
    "result"
   ]
  },
  {
   "cell_type": "code",
   "execution_count": 29,
   "metadata": {},
   "outputs": [
    {
     "data": {
      "text/plain": [
       "'cat'"
      ]
     },
     "execution_count": 29,
     "metadata": {},
     "output_type": "execute_result"
    }
   ],
   "source": [
    "prediction"
   ]
  },
  {
   "cell_type": "code",
   "execution_count": null,
   "metadata": {},
   "outputs": [],
   "source": []
  }
 ],
 "metadata": {
  "kernelspec": {
   "display_name": "Python 3",
   "language": "python",
   "name": "python3"
  },
  "language_info": {
   "codemirror_mode": {
    "name": "ipython",
    "version": 3
   },
   "file_extension": ".py",
   "mimetype": "text/x-python",
   "name": "python",
   "nbconvert_exporter": "python",
   "pygments_lexer": "ipython3",
   "version": "3.7.6"
  }
 },
 "nbformat": 4,
 "nbformat_minor": 4
}
